{
  "nbformat": 4,
  "nbformat_minor": 0,
  "metadata": {
    "colab": {
      "name": "dzien4.ipynb",
      "provenance": [],
      "collapsed_sections": [],
      "mount_file_id": "1siDpwNT5TPJQsnxEmuheJfZ_rJdOVOV-",
      "authorship_tag": "ABX9TyPuOLtn3cQCi3EsE4QGo2N/",
      "include_colab_link": true
    },
    "kernelspec": {
      "name": "python3",
      "display_name": "Python 3"
    }
  },
  "cells": [
    {
      "cell_type": "markdown",
      "metadata": {
        "id": "view-in-github",
        "colab_type": "text"
      },
      "source": [
        "<a href=\"https://colab.research.google.com/github/NagorskaWollejszo/dw_matrix/blob/master/dzien4.ipynb\" target=\"_parent\"><img src=\"https://colab.research.google.com/assets/colab-badge.svg\" alt=\"Open In Colab\"/></a>"
      ]
    },
    {
      "cell_type": "code",
      "metadata": {
        "id": "Uhm71vnG77Pp",
        "colab_type": "code",
        "colab": {}
      },
      "source": [
        "import pandas as pd\n",
        "import numpy as np\n",
        "from sklearn.tree import DecisionTreeRegressor\n",
        "from sklearn.metrics import mean_absolute_error\n",
        "from sklearn.model_selection import cross_val_score"
      ],
      "execution_count": 0,
      "outputs": []
    },
    {
      "cell_type": "code",
      "metadata": {
        "id": "kp3WPveD8oWc",
        "colab_type": "code",
        "outputId": "942241b7-0706-4b98-9e19-01d360ed72f2",
        "colab": {
          "base_uri": "https://localhost:8080/",
          "height": 34
        }
      },
      "source": [
        "cd \"/content/drive/My Drive/Colab Notebooks/dw_matrix\""
      ],
      "execution_count": 0,
      "outputs": [
        {
          "output_type": "stream",
          "text": [
            "/content/drive/My Drive/Colab Notebooks/dw_matrix\n"
          ],
          "name": "stdout"
        }
      ]
    },
    {
      "cell_type": "code",
      "metadata": {
        "id": "UIIe26Uu84Ou",
        "colab_type": "code",
        "outputId": "4f389dad-70ee-4e28-c8c4-77cb0f106252",
        "colab": {
          "base_uri": "https://localhost:8080/",
          "height": 34
        }
      },
      "source": [
        "ls data"
      ],
      "execution_count": 0,
      "outputs": [
        {
          "output_type": "stream",
          "text": [
            "men_shoes.csv\n"
          ],
          "name": "stdout"
        }
      ]
    },
    {
      "cell_type": "code",
      "metadata": {
        "id": "Tyh4GKey9aK-",
        "colab_type": "code",
        "outputId": "a324d25e-d949-44b4-9869-e820234d0de8",
        "colab": {
          "base_uri": "https://localhost:8080/",
          "height": 34
        }
      },
      "source": [
        "df = pd.read_csv('data/men_shoes.csv', low_memory=False)\n",
        "df.shape"
      ],
      "execution_count": 0,
      "outputs": [
        {
          "output_type": "execute_result",
          "data": {
            "text/plain": [
              "(18280, 48)"
            ]
          },
          "metadata": {
            "tags": []
          },
          "execution_count": 6
        }
      ]
    },
    {
      "cell_type": "code",
      "metadata": {
        "id": "PWymyt9o9oVN",
        "colab_type": "code",
        "outputId": "5d66e5b2-08b8-4457-db65-69faaaf8c211",
        "colab": {
          "base_uri": "https://localhost:8080/",
          "height": 221
        }
      },
      "source": [
        "df.columns"
      ],
      "execution_count": 0,
      "outputs": [
        {
          "output_type": "execute_result",
          "data": {
            "text/plain": [
              "Index(['id', 'asins', 'brand', 'categories', 'colors', 'count', 'dateadded',\n",
              "       'dateupdated', 'descriptions', 'dimension', 'ean', 'features',\n",
              "       'flavors', 'imageurls', 'isbn', 'keys', 'manufacturer',\n",
              "       'manufacturernumber', 'merchants', 'name', 'prices_amountmin',\n",
              "       'prices_amountmax', 'prices_availability', 'prices_color',\n",
              "       'prices_condition', 'prices_count', 'prices_currency',\n",
              "       'prices_dateadded', 'prices_dateseen', 'prices_flavor', 'prices_issale',\n",
              "       'prices_merchant', 'prices_offer', 'prices_returnpolicy',\n",
              "       'prices_shipping', 'prices_size', 'prices_source', 'prices_sourceurls',\n",
              "       'prices_warranty', 'quantities', 'reviews', 'sizes', 'skus',\n",
              "       'sourceurls', 'upc', 'vin', 'websiteids', 'weight'],\n",
              "      dtype='object')"
            ]
          },
          "metadata": {
            "tags": []
          },
          "execution_count": 7
        }
      ]
    },
    {
      "cell_type": "code",
      "metadata": {
        "id": "zmepSIfq9uOM",
        "colab_type": "code",
        "outputId": "950eb087-9831-4547-f0bc-13a8a688f613",
        "colab": {
          "base_uri": "https://localhost:8080/",
          "height": 34
        }
      },
      "source": [
        "mean_price = np.mean ( df['prices_amountmin'])\n",
        "mean_price"
      ],
      "execution_count": 0,
      "outputs": [
        {
          "output_type": "execute_result",
          "data": {
            "text/plain": [
              "93.53952188183217"
            ]
          },
          "metadata": {
            "tags": []
          },
          "execution_count": 8
        }
      ]
    },
    {
      "cell_type": "code",
      "metadata": {
        "id": "yupWNGgq9-uM",
        "colab_type": "code",
        "outputId": "cf00fd75-47f3-4f6d-b63b-75b9515b4b74",
        "colab": {
          "base_uri": "https://localhost:8080/",
          "height": 34
        }
      },
      "source": [
        "[3]*5"
      ],
      "execution_count": 0,
      "outputs": [
        {
          "output_type": "execute_result",
          "data": {
            "text/plain": [
              "[3, 3, 3, 3, 3]"
            ]
          },
          "metadata": {
            "tags": []
          },
          "execution_count": 10
        }
      ]
    },
    {
      "cell_type": "code",
      "metadata": {
        "id": "Yjf2BWk8-HJw",
        "colab_type": "code",
        "outputId": "38df204e-aca9-45ba-95e6-194418fe0d4e",
        "colab": {
          "base_uri": "https://localhost:8080/",
          "height": 34
        }
      },
      "source": [
        "y_true = df['prices_amountmin']\n",
        "y_true.shape[0]"
      ],
      "execution_count": 0,
      "outputs": [
        {
          "output_type": "execute_result",
          "data": {
            "text/plain": [
              "18280"
            ]
          },
          "metadata": {
            "tags": []
          },
          "execution_count": 12
        }
      ]
    },
    {
      "cell_type": "code",
      "metadata": {
        "id": "rZ-3VpVB-hnn",
        "colab_type": "code",
        "outputId": "f17fa95f-eeac-4938-c8ad-cdd2f553bf21",
        "colab": {
          "base_uri": "https://localhost:8080/",
          "height": 34
        }
      },
      "source": [
        "y_true = df['prices_amountmin']\n",
        "y_pred = [mean_price] * y_true.shape[0]\n",
        "\n",
        "mean_absolute_error(y_true, y_pred)"
      ],
      "execution_count": 0,
      "outputs": [
        {
          "output_type": "execute_result",
          "data": {
            "text/plain": [
              "63.968341227870624"
            ]
          },
          "metadata": {
            "tags": []
          },
          "execution_count": 13
        }
      ]
    },
    {
      "cell_type": "code",
      "metadata": {
        "id": "MULbKdEc__Ko",
        "colab_type": "code",
        "outputId": "7a2d490e-1b3f-4997-a330-d0040a17633c",
        "colab": {
          "base_uri": "https://localhost:8080/",
          "height": 282
        }
      },
      "source": [
        "df['prices_amountmin'].hist(bins=100)"
      ],
      "execution_count": 0,
      "outputs": [
        {
          "output_type": "execute_result",
          "data": {
            "text/plain": [
              "<matplotlib.axes._subplots.AxesSubplot at 0x7f5cfa7b5518>"
            ]
          },
          "metadata": {
            "tags": []
          },
          "execution_count": 14
        },
        {
          "output_type": "display_data",
          "data": {
            "image/png": "[encoded data removed]",
            "text/plain": [
              "<Figure size 432x288 with 1 Axes>"
            ]
          },
          "metadata": {
            "tags": []
          }
        }
      ]
    },
    {
      "cell_type": "code",
      "metadata": {
        "id": "Crs5hD-0AUJw",
        "colab_type": "code",
        "outputId": "20731105-2467-4e21-8fee-7b0c5c194f13",
        "colab": {
          "base_uri": "https://localhost:8080/",
          "height": 282
        }
      },
      "source": [
        "np.log( df['prices_amountmin'] + 1 ) .hist(bins=100)"
      ],
      "execution_count": 0,
      "outputs": [
        {
          "output_type": "execute_result",
          "data": {
            "text/plain": [
              "<matplotlib.axes._subplots.AxesSubplot at 0x7f5cf8bfac88>"
            ]
          },
          "metadata": {
            "tags": []
          },
          "execution_count": 16
        },
        {
          "output_type": "display_data",
          "data": {
            "image/png": "[encoded data removed]",
            "text/plain": [
              "<Figure size 432x288 with 1 Axes>"
            ]
          },
          "metadata": {
            "tags": []
          }
        }
      ]
    },
    {
      "cell_type": "code",
      "metadata": {
        "id": "rJx2kWqgAxMo",
        "colab_type": "code",
        "outputId": "e04eb564-884f-45db-a076-bf3d75683daf",
        "colab": {
          "base_uri": "https://localhost:8080/",
          "height": 282
        }
      },
      "source": [
        "np.log1p( df['prices_amountmin'] ) .hist(bins=100)"
      ],
      "execution_count": 0,
      "outputs": [
        {
          "output_type": "execute_result",
          "data": {
            "text/plain": [
              "<matplotlib.axes._subplots.AxesSubplot at 0x7f5cf8a18fd0>"
            ]
          },
          "metadata": {
            "tags": []
          },
          "execution_count": 23
        },
        {
          "output_type": "display_data",
          "data": {
            "image/png": "[encoded data removed]",
            "text/plain": [
              "<Figure size 432x288 with 1 Axes>"
            ]
          },
          "metadata": {
            "tags": []
          }
        }
      ]
    },
    {
      "cell_type": "code",
      "metadata": {
        "id": "KvkVLVEwBnsi",
        "colab_type": "code",
        "outputId": "2558c5de-bb9c-4d7c-b03c-14b0b6cef480",
        "colab": {
          "base_uri": "https://localhost:8080/",
          "height": 34
        }
      },
      "source": [
        "np.log1p(0)"
      ],
      "execution_count": 0,
      "outputs": [
        {
          "output_type": "execute_result",
          "data": {
            "text/plain": [
              "0.0"
            ]
          },
          "metadata": {
            "tags": []
          },
          "execution_count": 24
        }
      ]
    },
    {
      "cell_type": "code",
      "metadata": {
        "id": "z7BXenzaBsYB",
        "colab_type": "code",
        "outputId": "4729763a-297a-41fc-e545-da1e3016d6ba",
        "colab": {
          "base_uri": "https://localhost:8080/",
          "height": 34
        }
      },
      "source": [
        "y_true = df['prices_amountmin']\n",
        "y_pred = [np.median(y_true)] * y_true.shape[0]\n",
        "\n",
        "mean_absolute_error(y_true, y_pred)"
      ],
      "execution_count": 0,
      "outputs": [
        {
          "output_type": "execute_result",
          "data": {
            "text/plain": [
              "58.01120240700219"
            ]
          },
          "metadata": {
            "tags": []
          },
          "execution_count": 22
        }
      ]
    },
    {
      "cell_type": "code",
      "metadata": {
        "id": "h1mTL1ykCFyj",
        "colab_type": "code",
        "outputId": "85f6146f-8f73-4448-aa4e-fd065d4c9ada",
        "colab": {
          "base_uri": "https://localhost:8080/",
          "height": 34
        }
      },
      "source": [
        "y_true = df['prices_amountmin']\n",
        "price_log_mean = np.exp( np.mean( np.log1p(y_true) ) ) -1\n",
        "y_pred = [price_log_mean] * y_true.shape[0]\n",
        "\n",
        "mean_absolute_error(y_true, y_pred)"
      ],
      "execution_count": 0,
      "outputs": [
        {
          "output_type": "execute_result",
          "data": {
            "text/plain": [
              "58.03539547661041"
            ]
          },
          "metadata": {
            "tags": []
          },
          "execution_count": 34
        }
      ]
    },
    {
      "cell_type": "code",
      "metadata": {
        "id": "yQN5c4hJESOF",
        "colab_type": "code",
        "outputId": "ec84e233-3cfb-47a3-e1ab-a638d81e35e0",
        "colab": {
          "base_uri": "https://localhost:8080/",
          "height": 34
        }
      },
      "source": [
        "y_true = df['prices_amountmin']\n",
        "price_log_mean = np.expm1( np.mean( np.log1p(y_true) ) )\n",
        "y_pred = [price_log_mean] * y_true.shape[0]\n",
        "\n",
        "mean_absolute_error(y_true, y_pred)"
      ],
      "execution_count": 0,
      "outputs": [
        {
          "output_type": "execute_result",
          "data": {
            "text/plain": [
              "58.03539547661041"
            ]
          },
          "metadata": {
            "tags": []
          },
          "execution_count": 35
        }
      ]
    },
    {
      "cell_type": "code",
      "metadata": {
        "id": "7BZ1ykCGVQ7h",
        "colab_type": "code",
        "outputId": "5b8cfa88-4a73-40e2-a7e1-f35c211aef3f",
        "colab": {
          "base_uri": "https://localhost:8080/",
          "height": 221
        }
      },
      "source": [
        "df.columns"
      ],
      "execution_count": 0,
      "outputs": [
        {
          "output_type": "execute_result",
          "data": {
            "text/plain": [
              "Index(['id', 'asins', 'brand', 'categories', 'colors', 'count', 'dateadded',\n",
              "       'dateupdated', 'descriptions', 'dimension', 'ean', 'features',\n",
              "       'flavors', 'imageurls', 'isbn', 'keys', 'manufacturer',\n",
              "       'manufacturernumber', 'merchants', 'name', 'prices_amountmin',\n",
              "       'prices_amountmax', 'prices_availability', 'prices_color',\n",
              "       'prices_condition', 'prices_count', 'prices_currency',\n",
              "       'prices_dateadded', 'prices_dateseen', 'prices_flavor', 'prices_issale',\n",
              "       'prices_merchant', 'prices_offer', 'prices_returnpolicy',\n",
              "       'prices_shipping', 'prices_size', 'prices_source', 'prices_sourceurls',\n",
              "       'prices_warranty', 'quantities', 'reviews', 'sizes', 'skus',\n",
              "       'sourceurls', 'upc', 'vin', 'websiteids', 'weight'],\n",
              "      dtype='object')"
            ]
          },
          "metadata": {
            "tags": []
          },
          "execution_count": 36
        }
      ]
    },
    {
      "cell_type": "code",
      "metadata": {
        "id": "Ai7yKCm5WOFL",
        "colab_type": "code",
        "outputId": "160941d0-a4b1-4725-88a1-b94dfe184dad",
        "colab": {
          "base_uri": "https://localhost:8080/",
          "height": 221
        }
      },
      "source": [
        "df.brand.value_counts()"
      ],
      "execution_count": 0,
      "outputs": [
        {
          "output_type": "execute_result",
          "data": {
            "text/plain": [
              "Nike                       1709\n",
              "PUMA                        574\n",
              "Ralph Lauren                524\n",
              "New Balance                 361\n",
              "VANS                        356\n",
              "                           ... \n",
              "Iron Fist                     1\n",
              "Shopzeus                      1\n",
              "U.S. Polo Assn. Classic       1\n",
              "Raywinter                     1\n",
              "Montrail                      1\n",
              "Name: brand, Length: 1856, dtype: int64"
            ]
          },
          "metadata": {
            "tags": []
          },
          "execution_count": 37
        }
      ]
    },
    {
      "cell_type": "code",
      "metadata": {
        "id": "rDbO4uBpWVWY",
        "colab_type": "code",
        "colab": {}
      },
      "source": [
        "df['brand_cat'] = df['brand'].factorize()[0]"
      ],
      "execution_count": 0,
      "outputs": []
    },
    {
      "cell_type": "code",
      "metadata": {
        "id": "1HZTDn4jWs2O",
        "colab_type": "code",
        "outputId": "4d8b940b-504b-4e91-eafa-6e006addd171",
        "colab": {
          "base_uri": "https://localhost:8080/",
          "height": 51
        }
      },
      "source": [
        "feats = ['brand_cat']\n",
        "X = df[ feats ].values\n",
        "y = df['prices_amountmin'].values\n",
        "\n",
        "model = DecisionTreeRegressor(max_depth=5)\n",
        "\n",
        "cross_val_score(model, X, y, scoring='neg_mean_absolute_error')"
      ],
      "execution_count": 0,
      "outputs": [
        {
          "output_type": "execute_result",
          "data": {
            "text/plain": [
              "array([-57.89947522, -57.73227208, -52.50719535, -58.06843816,\n",
              "       -65.72540391])"
            ]
          },
          "metadata": {
            "tags": []
          },
          "execution_count": 45
        }
      ]
    },
    {
      "cell_type": "code",
      "metadata": {
        "id": "yavpcEraYD3c",
        "colab_type": "code",
        "outputId": "e783a6b2-7937-42e1-9326-6a2f8a69175e",
        "colab": {
          "base_uri": "https://localhost:8080/",
          "height": 180
        }
      },
      "source": [
        "import sklearn\n",
        "sklearn.metrics.SCORES.keys()"
      ],
      "execution_count": 0,
      "outputs": [
        {
          "output_type": "error",
          "ename": "AttributeError",
          "evalue": "ignored",
          "traceback": [
            "\u001b[0;31m---------------------------------------------------------------------------\u001b[0m",
            "\u001b[0;31mAttributeError\u001b[0m                            Traceback (most recent call last)",
            "\u001b[0;32m<ipython-input-42-d5aa2c27aa5e>\u001b[0m in \u001b[0;36m<module>\u001b[0;34m()\u001b[0m\n\u001b[1;32m      1\u001b[0m \u001b[0;32mimport\u001b[0m \u001b[0msklearn\u001b[0m\u001b[0;34m\u001b[0m\u001b[0;34m\u001b[0m\u001b[0m\n\u001b[0;32m----> 2\u001b[0;31m \u001b[0msklearn\u001b[0m\u001b[0;34m.\u001b[0m\u001b[0mmetrics\u001b[0m\u001b[0;34m.\u001b[0m\u001b[0mSCORES\u001b[0m\u001b[0;34m.\u001b[0m\u001b[0mkeys\u001b[0m\u001b[0;34m(\u001b[0m\u001b[0;34m)\u001b[0m\u001b[0;34m\u001b[0m\u001b[0;34m\u001b[0m\u001b[0m\n\u001b[0m",
            "\u001b[0;31mAttributeError\u001b[0m: module 'sklearn.metrics' has no attribute 'SCORES'"
          ]
        }
      ]
    },
    {
      "cell_type": "code",
      "metadata": {
        "id": "XSuJIQmGYRt6",
        "colab_type": "code",
        "outputId": "0b45373c-1ec7-410f-c05c-2ead15330760",
        "colab": {
          "base_uri": "https://localhost:8080/",
          "height": 34
        }
      },
      "source": [
        "feats = ['brand_cat']\n",
        "X = df[ feats ].values\n",
        "y = df['prices_amountmin'].values\n",
        "\n",
        "model = DecisionTreeRegressor(max_depth=5)\n",
        "\n",
        "scores = cross_val_score(model, X, y, scoring='neg_mean_absolute_error')\n",
        "np.mean(scores), np.std(scores)"
      ],
      "execution_count": 0,
      "outputs": [
        {
          "output_type": "execute_result",
          "data": {
            "text/plain": [
              "(-58.38655694633361, 4.223555478221712)"
            ]
          },
          "metadata": {
            "tags": []
          },
          "execution_count": 46
        }
      ]
    },
    {
      "cell_type": "code",
      "metadata": {
        "id": "Syocd_LQZjsd",
        "colab_type": "code",
        "colab": {}
      },
      "source": [
        "def run_model(feats):\n",
        " X = df[ feats ].values\n",
        " y = df['prices_amountmin'].values\n",
        " \n",
        " model = DecisionTreeRegressor(max_depth=5)\n",
        " \n",
        " scores = cross_val_score(model, X, y, scoring='neg_mean_absolute_error')\n",
        " return np.mean(scores), np.std(scores)"
      ],
      "execution_count": 0,
      "outputs": []
    },
    {
      "cell_type": "code",
      "metadata": {
        "id": "hBkhtPVsaRNp",
        "colab_type": "code",
        "outputId": "f5297b53-d3d3-4add-cbf2-07aa57549f94",
        "colab": {
          "base_uri": "https://localhost:8080/",
          "height": 34
        }
      },
      "source": [
        "run_model(['brand_cat'])"
      ],
      "execution_count": 0,
      "outputs": [
        {
          "output_type": "execute_result",
          "data": {
            "text/plain": [
              "(-58.38655694633361, 4.223555478221712)"
            ]
          },
          "metadata": {
            "tags": []
          },
          "execution_count": 49
        }
      ]
    },
    {
      "cell_type": "code",
      "metadata": {
        "id": "lxYUdRY3ahSa",
        "colab_type": "code",
        "colab": {}
      },
      "source": [
        "df['manufacturer_cat'] = df['manufacturer'].factorize()[0]"
      ],
      "execution_count": 0,
      "outputs": []
    },
    {
      "cell_type": "code",
      "metadata": {
        "id": "-0LpSFHUbiig",
        "colab_type": "code",
        "outputId": "f20ff383-f254-4d85-ddce-0a630d675503",
        "colab": {
          "base_uri": "https://localhost:8080/",
          "height": 51
        }
      },
      "source": [
        "feats = ['manufacturer_cat']\n",
        "X = df[ feats ].values\n",
        "y = df['prices_amountmin'].values\n",
        "\n",
        "model = DecisionTreeRegressor(max_depth=5)\n",
        "\n",
        "cross_val_score(model, X, y, scoring='neg_mean_absolute_error')"
      ],
      "execution_count": 0,
      "outputs": [
        {
          "output_type": "execute_result",
          "data": {
            "text/plain": [
              "array([-64.01382959, -61.24878356, -57.77143235, -64.85814779,\n",
              "       -67.7760531 ])"
            ]
          },
          "metadata": {
            "tags": []
          },
          "execution_count": 51
        }
      ]
    },
    {
      "cell_type": "code",
      "metadata": {
        "id": "FEjVIWbnbqe3",
        "colab_type": "code",
        "outputId": "ac3309bb-3c90-4961-813d-889d873389b2",
        "colab": {
          "base_uri": "https://localhost:8080/",
          "height": 34
        }
      },
      "source": [
        "run_model(['manufacturer_cat'])"
      ],
      "execution_count": 0,
      "outputs": [
        {
          "output_type": "execute_result",
          "data": {
            "text/plain": [
              "(-63.133649278023746, 3.394307434888982)"
            ]
          },
          "metadata": {
            "tags": []
          },
          "execution_count": 52
        }
      ]
    },
    {
      "cell_type": "code",
      "metadata": {
        "id": "Od08fnpwb85n",
        "colab_type": "code",
        "outputId": "a064e15c-b2a0-44af-c20b-75bcb49b30eb",
        "colab": {
          "base_uri": "https://localhost:8080/",
          "height": 34
        }
      },
      "source": [
        "run_model(['manufacturer_cat', 'brand_cat'])"
      ],
      "execution_count": 0,
      "outputs": [
        {
          "output_type": "execute_result",
          "data": {
            "text/plain": [
              "(-58.53930419908596, 4.31122323161543)"
            ]
          },
          "metadata": {
            "tags": []
          },
          "execution_count": 53
        }
      ]
    },
    {
      "cell_type": "code",
      "metadata": {
        "id": "HprfobVHcT-M",
        "colab_type": "code",
        "outputId": "4ff30c94-4f23-4dea-fa90-e637ffd1e7eb",
        "colab": {
          "base_uri": "https://localhost:8080/",
          "height": 51
        }
      },
      "source": [
        "ls"
      ],
      "execution_count": 0,
      "outputs": [
        {
          "output_type": "stream",
          "text": [
            "\u001b[0m\u001b[01;34mdata\u001b[0m/         dzien4_meta.ipynb  HelloGithub.ipynb  \u001b[01;34mmatrix_one\u001b[0m/\n",
            "dzien4.ipynb  \u001b[01;34mfdata\u001b[0m/             LICENSE            README.md\n"
          ],
          "name": "stdout"
        }
      ]
    },
    {
      "cell_type": "code",
      "metadata": {
        "id": "QLiRldR1i8E7",
        "colab_type": "code",
        "colab": {}
      },
      "source": [
        "!git config --global user.email \"nagorska.wollejszo@gmail.com\"\n",
        "!git config --global user.name \"NagorskaWollejszo\""
      ],
      "execution_count": 0,
      "outputs": []
    },
    {
      "cell_type": "code",
      "metadata": {
        "id": "p8e63jo6kx3V",
        "colab_type": "code",
        "outputId": "267f55d4-f266-41d3-e419-79392e6b2935",
        "colab": {
          "base_uri": "https://localhost:8080/",
          "height": 34
        }
      },
      "source": [
        "ls"
      ],
      "execution_count": 0,
      "outputs": [
        {
          "output_type": "stream",
          "text": [
            "\u001b[0m\u001b[01;34mdata\u001b[0m/  \u001b[01;34mfdata\u001b[0m/  HelloGithub.ipynb  LICENSE  \u001b[01;34mmatrix_one\u001b[0m/  README.md\n"
          ],
          "name": "stdout"
        }
      ]
    },
    {
      "cell_type": "code",
      "metadata": {
        "id": "WNw0XUsCk5pZ",
        "colab_type": "code",
        "colab": {}
      },
      "source": [
        "!git add matrix_one/dzien4.ipynb"
      ],
      "execution_count": 0,
      "outputs": []
    },
    {
      "cell_type": "code",
      "metadata": {
        "id": "y8knqkHYlFZx",
        "colab_type": "code",
        "outputId": "1e707a8b-046c-4e1d-939c-c8434857b9ca",
        "colab": {
          "base_uri": "https://localhost:8080/",
          "height": 34
        }
      },
      "source": [
        "pwd"
      ],
      "execution_count": 0,
      "outputs": [
        {
          "output_type": "execute_result",
          "data": {
            "text/plain": [
              "'/content/drive/My Drive/Colab Notebooks/dw_matrix'"
            ]
          },
          "metadata": {
            "tags": []
          },
          "execution_count": 92
        }
      ]
    },
    {
      "cell_type": "code",
      "metadata": {
        "id": "Zkoxeum4loqL",
        "colab_type": "code",
        "outputId": "977a7a4b-1320-40be-8b2b-905e8a4e11c1",
        "colab": {
          "base_uri": "https://localhost:8080/",
          "height": 425
        }
      },
      "source": [
        "!git status"
      ],
      "execution_count": 0,
      "outputs": [
        {
          "output_type": "stream",
          "text": [
            "On branch master\n",
            "Your branch is ahead of 'origin/master' by 4 commits.\n",
            "  (use \"git push\" to publish your local commits)\n",
            "\n",
            "Changes to be committed:\n",
            "  (use \"git reset HEAD <file>...\" to unstage)\n",
            "\n",
            "\t\u001b[32mmodified:   matrix_one/dzien4.ipynb\u001b[m\n",
            "\n",
            "Changes not staged for commit:\n",
            "  (use \"git add/rm <file>...\" to update what will be committed)\n",
            "  (use \"git checkout -- <file>...\" to discard changes in working directory)\n",
            "\n",
            "\t\u001b[31mmodified:   .gitignore\u001b[m\n",
            "\t\u001b[31mmodified:   HelloGithub.ipynb\u001b[m\n",
            "\t\u001b[31mdeleted:    dzien4.ipynb\u001b[m\n",
            "\t\u001b[31mmodified:   matrix_one/dzien3.ipynb\u001b[m\n",
            "\t\u001b[31mmodified:   matrix_one/dzien3Female.ipynb\u001b[m\n",
            "\n",
            "Untracked files:\n",
            "  (use \"git add <file>...\" to include in what will be committed)\n",
            "\n",
            "\t\u001b[31mmatrix_one/dzien4_meta.ipynb\u001b[m\n",
            "\n"
          ],
          "name": "stdout"
        }
      ]
    },
    {
      "cell_type": "code",
      "metadata": {
        "id": "tLwxWAJnoaTL",
        "colab_type": "code",
        "colab": {}
      },
      "source": [
        "!git add matrix_one/dzien4.ipynb"
      ],
      "execution_count": 0,
      "outputs": []
    },
    {
      "cell_type": "code",
      "metadata": {
        "id": "pN3oXysGmYvz",
        "colab_type": "code",
        "outputId": "bc4f93ba-52ac-4773-f966-7fc552dcc64b",
        "colab": {
          "base_uri": "https://localhost:8080/",
          "height": 51
        }
      },
      "source": [
        "!git commit -m \"Dzień czwarty ogarniam dane\""
      ],
      "execution_count": 0,
      "outputs": [
        {
          "output_type": "stream",
          "text": [
            "[master f2b6aac] Dzień czwarty ogarniam dane\n",
            " 1 file changed, 1 insertion(+), 1 deletion(-)\n"
          ],
          "name": "stdout"
        }
      ]
    },
    {
      "cell_type": "code",
      "metadata": {
        "id": "fBF2nFrjmwra",
        "colab_type": "code",
        "outputId": "713a2c95-632f-4dd2-c792-0c25a7deb9b7",
        "colab": {
          "base_uri": "https://localhost:8080/",
          "height": 153
        }
      },
      "source": [
        "!git push"
      ],
      "execution_count": 0,
      "outputs": [
        {
          "output_type": "stream",
          "text": [
            "To https://github.com/NagorskaWollejszo/dw_matrix.git\n",
            " ! [rejected]        master -> master (fetch first)\n",
            "error: failed to push some refs to 'https://242987dc5c5c361de914666bc566ecea9ec21cb0@github.com/NagorskaWollejszo/dw_matrix.git'\n",
            "hint: Updates were rejected because the remote contains work that you do\n",
            "hint: not have locally. This is usually caused by another repository pushing\n",
            "hint: to the same ref. You may want to first integrate the remote changes\n",
            "hint: (e.g., 'git pull ...') before pushing again.\n",
            "hint: See the 'Note about fast-forwards' in 'git push --help' for details.\n"
          ],
          "name": "stdout"
        }
      ]
    },
    {
      "cell_type": "code",
      "metadata": {
        "id": "8rqczfC3n6x1",
        "colab_type": "code",
        "outputId": "420f7372-f8f2-424e-bc7d-e05e536a0533",
        "colab": {
          "base_uri": "https://localhost:8080/",
          "height": 34
        }
      },
      "source": [
        "ls"
      ],
      "execution_count": 0,
      "outputs": [
        {
          "output_type": "stream",
          "text": [
            "\u001b[0m\u001b[01;34mdata\u001b[0m/  \u001b[01;34mfdata\u001b[0m/  HelloGithub.ipynb  LICENSE  \u001b[01;34mmatrix_one\u001b[0m/  README.md\n"
          ],
          "name": "stdout"
        }
      ]
    },
    {
      "cell_type": "code",
      "metadata": {
        "id": "K80K7J4wqG5C",
        "colab_type": "code",
        "outputId": "8cbd981e-bd11-4331-fecd-7efccfb7d422",
        "colab": {
          "base_uri": "https://localhost:8080/",
          "height": 34
        }
      },
      "source": [
        "cd matrix_one/"
      ],
      "execution_count": 0,
      "outputs": [
        {
          "output_type": "stream",
          "text": [
            "/content/drive/My Drive/Colab Notebooks/dw_matrix/matrix_one\n"
          ],
          "name": "stdout"
        }
      ]
    },
    {
      "cell_type": "code",
      "metadata": {
        "id": "0eZyVcBaq2kG",
        "colab_type": "code",
        "colab": {}
      },
      "source": [
        "!git add dzien4.ipynb"
      ],
      "execution_count": 0,
      "outputs": []
    },
    {
      "cell_type": "code",
      "metadata": {
        "id": "ILttid9Fq7zO",
        "colab_type": "code",
        "outputId": "8fefd830-bdfb-4d70-a4ce-8d5a4760c0e1",
        "colab": {
          "base_uri": "https://localhost:8080/",
          "height": 51
        }
      },
      "source": [
        "!git commit -m \"Dzień czwarty ogarniam dane\""
      ],
      "execution_count": 108,
      "outputs": [
        {
          "output_type": "stream",
          "text": [
            "[master 22967e8] Dzień czwarty ogarniam dane\n",
            " 1 file changed, 1 insertion(+), 1 deletion(-)\n"
          ],
          "name": "stdout"
        }
      ]
    },
    {
      "cell_type": "code",
      "metadata": {
        "id": "ihZHpaOJrAtZ",
        "colab_type": "code",
        "outputId": "a0013f69-16bb-41f6-c0e9-776608b0e6a6",
        "colab": {
          "base_uri": "https://localhost:8080/",
          "height": 357
        }
      },
      "source": [
        "!git status"
      ],
      "execution_count": 109,
      "outputs": [
        {
          "output_type": "stream",
          "text": [
            "On branch master\n",
            "Your branch is ahead of 'origin/master' by 7 commits.\n",
            "  (use \"git push\" to publish your local commits)\n",
            "\n",
            "Changes not staged for commit:\n",
            "  (use \"git add/rm <file>...\" to update what will be committed)\n",
            "  (use \"git checkout -- <file>...\" to discard changes in working directory)\n",
            "\n",
            "\t\u001b[31mmodified:   ../.gitignore\u001b[m\n",
            "\t\u001b[31mmodified:   ../HelloGithub.ipynb\u001b[m\n",
            "\t\u001b[31mdeleted:    ../dzien4.ipynb\u001b[m\n",
            "\t\u001b[31mmodified:   dzien3.ipynb\u001b[m\n",
            "\t\u001b[31mmodified:   dzien3Female.ipynb\u001b[m\n",
            "\n",
            "Untracked files:\n",
            "  (use \"git add <file>...\" to include in what will be committed)\n",
            "\n",
            "\t\u001b[31mdzien4_meta.ipynb\u001b[m\n",
            "\n",
            "no changes added to commit (use \"git add\" and/or \"git commit -a\")\n"
          ],
          "name": "stdout"
        }
      ]
    },
    {
      "cell_type": "code",
      "metadata": {
        "id": "AMbAH_aIrFTb",
        "colab_type": "code",
        "outputId": "8e2d1200-f70a-43ee-8e10-63bdbb617124",
        "colab": {
          "base_uri": "https://localhost:8080/",
          "height": 34
        }
      },
      "source": [
        "!echo dzien4.ipynb"
      ],
      "execution_count": 114,
      "outputs": [
        {
          "output_type": "stream",
          "text": [
            "dzien4.ipynb\n"
          ],
          "name": "stdout"
        }
      ]
    },
    {
      "cell_type": "code",
      "metadata": {
        "id": "9hmNa134rc6A",
        "colab_type": "code",
        "outputId": "4dfe54c6-fd61-416b-98b0-38fefb23f120",
        "colab": {
          "base_uri": "https://localhost:8080/",
          "height": 153
        }
      },
      "source": [
        "!git push"
      ],
      "execution_count": 120,
      "outputs": [
        {
          "output_type": "stream",
          "text": [
            "To https://github.com/NagorskaWollejszo/dw_matrix.git\n",
            " ! [rejected]        master -> master (fetch first)\n",
            "error: failed to push some refs to 'https://48768c2cd21f4d19f061122d8e1bf82374c4e3ad@github.com/NagorskaWollejszo/dw_matrix.git'\n",
            "hint: Updates were rejected because the remote contains work that you do\n",
            "hint: not have locally. This is usually caused by another repository pushing\n",
            "hint: to the same ref. You may want to first integrate the remote changes\n",
            "hint: (e.g., 'git pull ...') before pushing again.\n",
            "hint: See the 'Note about fast-forwards' in 'git push --help' for details.\n"
          ],
          "name": "stdout"
        }
      ]
    },
    {
      "cell_type": "code",
      "metadata": {
        "id": "fFpRIz8vrfhd",
        "colab_type": "code",
        "colab": {}
      },
      "source": [
        ""
      ],
      "execution_count": 0,
      "outputs": []
    }
  ]
}